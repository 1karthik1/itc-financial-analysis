{
 "cells": [
  {
   "cell_type": "markdown",
   "id": "dd1e7b0c",
   "metadata": {},
   "source": [
    "# use firecrawl AI for scrapping data"
   ]
  },
  {
   "cell_type": "code",
   "execution_count": 101,
   "id": "913ca4ca",
   "metadata": {},
   "outputs": [],
   "source": [
    "from firecrawl import FirecrawlApp, ScrapeOptions\n",
    "import pandas as pd\n",
    "import pdfplumber\n",
    "import requests\n",
    "import re\n",
    "import os"
   ]
  },
  {
   "cell_type": "code",
   "execution_count": 2,
   "id": "2548a6a4",
   "metadata": {},
   "outputs": [],
   "source": [
    "FIRECRAWL_API_KEY = \"fc-d28fcfeecd9e4064ad6cc334253004bf\""
   ]
  },
  {
   "cell_type": "code",
   "execution_count": 3,
   "id": "d0e0d111",
   "metadata": {},
   "outputs": [],
   "source": [
    "app = FirecrawlApp(api_key=FIRECRAWL_API_KEY)"
   ]
  },
  {
   "cell_type": "code",
   "execution_count": 4,
   "id": "283c261b",
   "metadata": {},
   "outputs": [],
   "source": [
    "annual_report_urls = {\n",
    "\"2023\": \"https://www.itcportal.com/about-itc/shareholder-value/annual-reports/itc-annual-report-2023/pdf/ITC-Report-and-Accounts-2023.pdf\",\n",
    "\"2024\": \"https://www.itcportal.com/about-itc/shareholder-value/annual-reports/itc-annual-report-2024/pdf/ITC-Report-and-Accounts-2024.pdf\"\n",
    "}"
   ]
  },
  {
   "cell_type": "code",
   "execution_count": 5,
   "id": "49ecfe9c",
   "metadata": {},
   "outputs": [],
   "source": [
    "def extract_financials_from_pdf(url_1, year):\n",
    "    response = app.scrape_url(url_1, formats=['html'])\n",
    "    \n",
    "    full_text = response.html\n",
    "    \n",
    "    cleaned_text = re.sub(r'\\d+(\\.\\d+)?%', '', full_text)\n",
    "    \n",
    "    revenue = None\n",
    "    net_profit = None\n",
    "    \n",
    "    rev_pattern = re.search(r\"(Revenue from Operations|Gross Revenue)[^\\d₹]{0,20}(₹?\\s?[\\d,]+.\\d+|\\d{2,})\", cleaned_text, re.IGNORECASE)\n",
    "    \n",
    "    \n",
    "    profit_pattern = re.search(r\"(Net Profit|Profit After Tax)[^\\d₹]{0,20}(₹?\\s?[\\d,]+.\\d+|\\d{2,})\", cleaned_text, re.IGNORECASE)\n",
    "    \n",
    "    \n",
    "    if rev_pattern:\n",
    "        revenue = rev_pattern.group(2)\n",
    "    if profit_pattern:\n",
    "        net_profit = profit_pattern.group(2)\n",
    "        \n",
    "    return {\"Year\": year, \"Revenue(₹cr)\": revenue or \"Not found\", \"Net Profit(₹cr)\": net_profit or \"Not found\"}"
   ]
  },
  {
   "cell_type": "code",
   "execution_count": 6,
   "id": "b2f3b8b5",
   "metadata": {},
   "outputs": [
    {
     "name": "stdout",
     "output_type": "stream",
     "text": [
      "[{'Year': '2023', 'Revenue(₹cr)': '69,481', 'Net Profit(₹cr)': '18753.31'}, {'Year': '2024', 'Revenue(₹cr)': '69,446', 'Net Profit(₹cr)': '20421.97'}]\n"
     ]
    }
   ],
   "source": [
    "financials = []\n",
    "\n",
    "for year, url in annual_report_urls.items():\n",
    "    \n",
    "    data = extract_financials_from_pdf(url, year)\n",
    "    \n",
    "    financials.append(data)\n",
    "    \n",
    "print(financials)"
   ]
  },
  {
   "cell_type": "code",
   "execution_count": 7,
   "id": "c65f5300",
   "metadata": {},
   "outputs": [
    {
     "name": "stderr",
     "output_type": "stream",
     "text": [
      "C:\\Users\\santosh\\anaconda3\\lib\\site-packages\\google\\protobuf\\runtime_version.py:98: UserWarning: Protobuf gencode version 5.29.0 is exactly one major version older than the runtime version 6.30.2 at yfinance/pricing.proto. Please update the gencode to avoid compatibility violations in the next runtime release.\n",
      "  warnings.warn(\n"
     ]
    }
   ],
   "source": [
    "import yfinance as yf"
   ]
  },
  {
   "cell_type": "code",
   "execution_count": 8,
   "id": "56dd407a",
   "metadata": {},
   "outputs": [],
   "source": [
    "def get_stock_data_yahoo(ticker=\"ITC.NS\", start=\"2023-01-01\", end=\"2025-05-05\"):\n",
    "    \n",
    "    stock_data = yf.download(ticker, start=start, end=end)\n",
    "    stock_data.reset_index(inplace=True)\n",
    "    \n",
    "    return stock_data[['Date', 'Open', 'Close']]"
   ]
  },
  {
   "cell_type": "code",
   "execution_count": 9,
   "id": "58b5a03d",
   "metadata": {},
   "outputs": [
    {
     "name": "stdout",
     "output_type": "stream",
     "text": [
      "YF.download() has changed argument auto_adjust default to True\n"
     ]
    },
    {
     "name": "stderr",
     "output_type": "stream",
     "text": [
      "[*********************100%***********************]  1 of 1 completed\n"
     ]
    },
    {
     "data": {
      "text/html": [
       "<div>\n",
       "<style scoped>\n",
       "    .dataframe tbody tr th:only-of-type {\n",
       "        vertical-align: middle;\n",
       "    }\n",
       "\n",
       "    .dataframe tbody tr th {\n",
       "        vertical-align: top;\n",
       "    }\n",
       "\n",
       "    .dataframe thead tr th {\n",
       "        text-align: left;\n",
       "    }\n",
       "</style>\n",
       "<table border=\"1\" class=\"dataframe\">\n",
       "  <thead>\n",
       "    <tr>\n",
       "      <th>Price</th>\n",
       "      <th>Date</th>\n",
       "      <th>Open</th>\n",
       "      <th>Close</th>\n",
       "    </tr>\n",
       "    <tr>\n",
       "      <th>Ticker</th>\n",
       "      <th></th>\n",
       "      <th>ITC.NS</th>\n",
       "      <th>ITC.NS</th>\n",
       "    </tr>\n",
       "  </thead>\n",
       "  <tbody>\n",
       "    <tr>\n",
       "      <th>0</th>\n",
       "      <td>2023-01-02</td>\n",
       "      <td>308.648706</td>\n",
       "      <td>310.467590</td>\n",
       "    </tr>\n",
       "    <tr>\n",
       "      <th>1</th>\n",
       "      <td>2023-01-03</td>\n",
       "      <td>309.208393</td>\n",
       "      <td>308.835297</td>\n",
       "    </tr>\n",
       "    <tr>\n",
       "      <th>2</th>\n",
       "      <td>2023-01-04</td>\n",
       "      <td>309.534824</td>\n",
       "      <td>305.010956</td>\n",
       "    </tr>\n",
       "    <tr>\n",
       "      <th>3</th>\n",
       "      <td>2023-01-05</td>\n",
       "      <td>306.550010</td>\n",
       "      <td>311.027252</td>\n",
       "    </tr>\n",
       "    <tr>\n",
       "      <th>4</th>\n",
       "      <td>2023-01-06</td>\n",
       "      <td>312.193181</td>\n",
       "      <td>312.519623</td>\n",
       "    </tr>\n",
       "    <tr>\n",
       "      <th>...</th>\n",
       "      <td>...</td>\n",
       "      <td>...</td>\n",
       "      <td>...</td>\n",
       "    </tr>\n",
       "    <tr>\n",
       "      <th>568</th>\n",
       "      <td>2025-04-25</td>\n",
       "      <td>430.049988</td>\n",
       "      <td>427.799988</td>\n",
       "    </tr>\n",
       "    <tr>\n",
       "      <th>569</th>\n",
       "      <td>2025-04-28</td>\n",
       "      <td>426.649994</td>\n",
       "      <td>428.799988</td>\n",
       "    </tr>\n",
       "    <tr>\n",
       "      <th>570</th>\n",
       "      <td>2025-04-29</td>\n",
       "      <td>428.899994</td>\n",
       "      <td>426.000000</td>\n",
       "    </tr>\n",
       "    <tr>\n",
       "      <th>571</th>\n",
       "      <td>2025-04-30</td>\n",
       "      <td>427.399994</td>\n",
       "      <td>425.799988</td>\n",
       "    </tr>\n",
       "    <tr>\n",
       "      <th>572</th>\n",
       "      <td>2025-05-02</td>\n",
       "      <td>424.100006</td>\n",
       "      <td>429.500000</td>\n",
       "    </tr>\n",
       "  </tbody>\n",
       "</table>\n",
       "<p>573 rows × 3 columns</p>\n",
       "</div>"
      ],
      "text/plain": [
       "Price        Date        Open       Close\n",
       "Ticker                 ITC.NS      ITC.NS\n",
       "0      2023-01-02  308.648706  310.467590\n",
       "1      2023-01-03  309.208393  308.835297\n",
       "2      2023-01-04  309.534824  305.010956\n",
       "3      2023-01-05  306.550010  311.027252\n",
       "4      2023-01-06  312.193181  312.519623\n",
       "..            ...         ...         ...\n",
       "568    2025-04-25  430.049988  427.799988\n",
       "569    2025-04-28  426.649994  428.799988\n",
       "570    2025-04-29  428.899994  426.000000\n",
       "571    2025-04-30  427.399994  425.799988\n",
       "572    2025-05-02  424.100006  429.500000\n",
       "\n",
       "[573 rows x 3 columns]"
      ]
     },
     "execution_count": 9,
     "metadata": {},
     "output_type": "execute_result"
    }
   ],
   "source": [
    "stock_prices_df = get_stock_data_yahoo()\n",
    "stock_prices_df "
   ]
  },
  {
   "cell_type": "markdown",
   "id": "f16ba2c8",
   "metadata": {},
   "source": [
    "# Store scraped data in a SQLite/PostgreSQL database"
   ]
  },
  {
   "cell_type": "code",
   "execution_count": 10,
   "id": "17944a4d",
   "metadata": {},
   "outputs": [],
   "source": [
    "import sqlite3\n",
    "import re"
   ]
  },
  {
   "cell_type": "code",
   "execution_count": 11,
   "id": "f1413869",
   "metadata": {},
   "outputs": [],
   "source": [
    "conn = sqlite3.connect(\"itc_financials.db\")\n",
    "cursor = conn.cursor()"
   ]
  },
  {
   "cell_type": "code",
   "execution_count": 12,
   "id": "332065f3",
   "metadata": {},
   "outputs": [
    {
     "data": {
      "text/plain": [
       "<sqlite3.Cursor at 0x1946e823cc0>"
      ]
     },
     "execution_count": 12,
     "metadata": {},
     "output_type": "execute_result"
    }
   ],
   "source": [
    "cursor.execute(\"\"\"\n",
    "CREATE TABLE IF NOT EXISTS annual_financials (\n",
    "Year TEXT PRIMARY KEY,\n",
    "Revenue TEXT,\n",
    "Net_Profit TEXT\n",
    ")\n",
    "\"\"\")"
   ]
  },
  {
   "cell_type": "code",
   "execution_count": 13,
   "id": "81fe9811",
   "metadata": {},
   "outputs": [],
   "source": [
    "cursor.execute(\"\"\"\n",
    "CREATE TABLE IF NOT EXISTS stock_prices (\n",
    "Date TEXT,\n",
    "Open REAL,\n",
    "Close REAL,\n",
    "PRIMARY KEY (Date)\n",
    ")\n",
    "\"\"\")\n",
    "conn.commit()"
   ]
  },
  {
   "cell_type": "code",
   "execution_count": 14,
   "id": "7bdcce97",
   "metadata": {},
   "outputs": [],
   "source": [
    "for item in financials:\n",
    "    cursor.execute(\"\"\"INSERT OR REPLACE INTO annual_financials (Year, Revenue, Net_Profit )VALUES (?, ?, ?)\"\"\"\n",
    "                   , (item[\"Year\"], item[\"Revenue(₹cr)\"], item[\"Net Profit(₹cr)\"]))\n",
    "\n",
    "conn.commit()"
   ]
  },
  {
   "cell_type": "code",
   "execution_count": 15,
   "id": "7f7ea065",
   "metadata": {},
   "outputs": [],
   "source": [
    "stock_prices_df = stock_prices_df.reset_index()\n",
    "stock_prices_df[\"Date\"] = pd.to_datetime(stock_prices_df[\"Date\"]).dt.strftime('%Y-%m-%d')"
   ]
  },
  {
   "cell_type": "code",
   "execution_count": 16,
   "id": "6c5f0cdd",
   "metadata": {},
   "outputs": [
    {
     "name": "stdout",
     "output_type": "stream",
     "text": [
      "MultiIndex([('index',       ''),\n",
      "            ( 'Date',       ''),\n",
      "            ( 'Open', 'ITC.NS'),\n",
      "            ('Close', 'ITC.NS')],\n",
      "           names=['Price', 'Ticker'])\n"
     ]
    }
   ],
   "source": [
    "print(stock_prices_df.columns)"
   ]
  },
  {
   "cell_type": "code",
   "execution_count": 17,
   "id": "aace6f77",
   "metadata": {},
   "outputs": [],
   "source": [
    "stock_prices_df.columns = ['_'.join(col).strip() if col[1] else col[0] for col in stock_prices_df.columns.values]"
   ]
  },
  {
   "cell_type": "code",
   "execution_count": 18,
   "id": "2a23f92c",
   "metadata": {},
   "outputs": [],
   "source": [
    "stock_prices_df.rename(columns={\n",
    "'Date_': 'Date',\n",
    "'Open_ITC.NS': 'Open',\n",
    "'Close_ITC.NS': 'Close'\n",
    "}, inplace=True)"
   ]
  },
  {
   "cell_type": "code",
   "execution_count": 19,
   "id": "01b975aa",
   "metadata": {},
   "outputs": [
    {
     "name": "stdout",
     "output_type": "stream",
     "text": [
      "Index(['index', 'Date', 'Open', 'Close'], dtype='object')\n"
     ]
    }
   ],
   "source": [
    "print(stock_prices_df.columns)"
   ]
  },
  {
   "cell_type": "code",
   "execution_count": 20,
   "id": "a5ee3470",
   "metadata": {},
   "outputs": [],
   "source": [
    "for _, row in stock_prices_df.iterrows():\n",
    "    \n",
    "    date_str = str(row[\"Date\"])\n",
    "    open_val = float(row[\"Open\"]) if not pd.isnull(row[\"Open\"]) else None\n",
    "    close_val = float(row[\"Close\"]) if not pd.isnull(row[\"Close\"]) else None\n",
    "    \n",
    "    cursor.execute(\"\"\"INSERT OR REPLACE INTO stock_prices (Date, Open, Close)VALUES (?, ?, ?)\"\"\",\n",
    "                   (date_str, open_val, close_val))\n",
    "    \n",
    "conn.commit()"
   ]
  },
  {
   "cell_type": "code",
   "execution_count": 21,
   "id": "335c4c2f",
   "metadata": {},
   "outputs": [
    {
     "name": "stdout",
     "output_type": "stream",
     "text": [
      "Index(['index', 'Date', 'Open', 'Close'], dtype='object')\n"
     ]
    }
   ],
   "source": [
    "print(stock_prices_df.columns)"
   ]
  },
  {
   "cell_type": "code",
   "execution_count": 22,
   "id": "1400a59e",
   "metadata": {},
   "outputs": [],
   "source": [
    "stock_prices_df.rename(columns={\n",
    "'Date_': 'Date',\n",
    "'Open_ITC.NS': 'Open',\n",
    "'Close_ITC.NS': 'Close'\n",
    "}, inplace=True)"
   ]
  },
  {
   "cell_type": "code",
   "execution_count": 23,
   "id": "2dc2f21b",
   "metadata": {},
   "outputs": [
    {
     "data": {
      "text/html": [
       "<div>\n",
       "<style scoped>\n",
       "    .dataframe tbody tr th:only-of-type {\n",
       "        vertical-align: middle;\n",
       "    }\n",
       "\n",
       "    .dataframe tbody tr th {\n",
       "        vertical-align: top;\n",
       "    }\n",
       "\n",
       "    .dataframe thead th {\n",
       "        text-align: right;\n",
       "    }\n",
       "</style>\n",
       "<table border=\"1\" class=\"dataframe\">\n",
       "  <thead>\n",
       "    <tr style=\"text-align: right;\">\n",
       "      <th></th>\n",
       "      <th>index</th>\n",
       "      <th>Date</th>\n",
       "      <th>Open</th>\n",
       "      <th>Close</th>\n",
       "    </tr>\n",
       "  </thead>\n",
       "  <tbody>\n",
       "    <tr>\n",
       "      <th>0</th>\n",
       "      <td>0</td>\n",
       "      <td>2023-01-02</td>\n",
       "      <td>308.648706</td>\n",
       "      <td>310.467590</td>\n",
       "    </tr>\n",
       "    <tr>\n",
       "      <th>1</th>\n",
       "      <td>1</td>\n",
       "      <td>2023-01-03</td>\n",
       "      <td>309.208393</td>\n",
       "      <td>308.835297</td>\n",
       "    </tr>\n",
       "    <tr>\n",
       "      <th>2</th>\n",
       "      <td>2</td>\n",
       "      <td>2023-01-04</td>\n",
       "      <td>309.534824</td>\n",
       "      <td>305.010956</td>\n",
       "    </tr>\n",
       "    <tr>\n",
       "      <th>3</th>\n",
       "      <td>3</td>\n",
       "      <td>2023-01-05</td>\n",
       "      <td>306.550010</td>\n",
       "      <td>311.027252</td>\n",
       "    </tr>\n",
       "    <tr>\n",
       "      <th>4</th>\n",
       "      <td>4</td>\n",
       "      <td>2023-01-06</td>\n",
       "      <td>312.193181</td>\n",
       "      <td>312.519623</td>\n",
       "    </tr>\n",
       "    <tr>\n",
       "      <th>...</th>\n",
       "      <td>...</td>\n",
       "      <td>...</td>\n",
       "      <td>...</td>\n",
       "      <td>...</td>\n",
       "    </tr>\n",
       "    <tr>\n",
       "      <th>568</th>\n",
       "      <td>568</td>\n",
       "      <td>2025-04-25</td>\n",
       "      <td>430.049988</td>\n",
       "      <td>427.799988</td>\n",
       "    </tr>\n",
       "    <tr>\n",
       "      <th>569</th>\n",
       "      <td>569</td>\n",
       "      <td>2025-04-28</td>\n",
       "      <td>426.649994</td>\n",
       "      <td>428.799988</td>\n",
       "    </tr>\n",
       "    <tr>\n",
       "      <th>570</th>\n",
       "      <td>570</td>\n",
       "      <td>2025-04-29</td>\n",
       "      <td>428.899994</td>\n",
       "      <td>426.000000</td>\n",
       "    </tr>\n",
       "    <tr>\n",
       "      <th>571</th>\n",
       "      <td>571</td>\n",
       "      <td>2025-04-30</td>\n",
       "      <td>427.399994</td>\n",
       "      <td>425.799988</td>\n",
       "    </tr>\n",
       "    <tr>\n",
       "      <th>572</th>\n",
       "      <td>572</td>\n",
       "      <td>2025-05-02</td>\n",
       "      <td>424.100006</td>\n",
       "      <td>429.500000</td>\n",
       "    </tr>\n",
       "  </tbody>\n",
       "</table>\n",
       "<p>573 rows × 4 columns</p>\n",
       "</div>"
      ],
      "text/plain": [
       "     index        Date        Open       Close\n",
       "0        0  2023-01-02  308.648706  310.467590\n",
       "1        1  2023-01-03  309.208393  308.835297\n",
       "2        2  2023-01-04  309.534824  305.010956\n",
       "3        3  2023-01-05  306.550010  311.027252\n",
       "4        4  2023-01-06  312.193181  312.519623\n",
       "..     ...         ...         ...         ...\n",
       "568    568  2025-04-25  430.049988  427.799988\n",
       "569    569  2025-04-28  426.649994  428.799988\n",
       "570    570  2025-04-29  428.899994  426.000000\n",
       "571    571  2025-04-30  427.399994  425.799988\n",
       "572    572  2025-05-02  424.100006  429.500000\n",
       "\n",
       "[573 rows x 4 columns]"
      ]
     },
     "execution_count": 23,
     "metadata": {},
     "output_type": "execute_result"
    }
   ],
   "source": [
    "stock_prices_df"
   ]
  },
  {
   "cell_type": "code",
   "execution_count": 24,
   "id": "78ced1a7",
   "metadata": {},
   "outputs": [
    {
     "data": {
      "text/plain": [
       "<sqlite3.Cursor at 0x1946e822e40>"
      ]
     },
     "execution_count": 24,
     "metadata": {},
     "output_type": "execute_result"
    }
   ],
   "source": [
    "conn = sqlite3.connect(\"financial_data.db\")\n",
    "cursor = conn.cursor()\n",
    "\n",
    "cursor.execute(\"\"\"\n",
    "CREATE TABLE IF NOT EXISTS stock_prices (\n",
    "Date TEXT PRIMARY KEY,\n",
    "Open REAL,\n",
    "Close REAL\n",
    ")\n",
    "\"\"\")"
   ]
  },
  {
   "cell_type": "code",
   "execution_count": 25,
   "id": "b6620c64",
   "metadata": {},
   "outputs": [],
   "source": [
    "for _, row in stock_prices_df.iterrows():\n",
    "    \n",
    "    open_val = float(row[\"Open\"]) if pd.notnull(row[\"Open\"]) else None\n",
    "    close_val = float(row[\"Close\"]) if pd.notnull(row[\"Close\"]) else None\n",
    "    \n",
    "    cursor.execute(\"\"\"INSERT OR REPLACE INTO stock_prices (Date, Open, Close)VALUES (?, ?, ?)\"\"\",\n",
    "                   (row[\"Date\"], open_val, close_val))\n",
    "    \n",
    "conn.commit()"
   ]
  },
  {
   "cell_type": "code",
   "execution_count": 26,
   "id": "978c4da7",
   "metadata": {},
   "outputs": [
    {
     "data": {
      "text/html": [
       "<div>\n",
       "<style scoped>\n",
       "    .dataframe tbody tr th:only-of-type {\n",
       "        vertical-align: middle;\n",
       "    }\n",
       "\n",
       "    .dataframe tbody tr th {\n",
       "        vertical-align: top;\n",
       "    }\n",
       "\n",
       "    .dataframe thead th {\n",
       "        text-align: right;\n",
       "    }\n",
       "</style>\n",
       "<table border=\"1\" class=\"dataframe\">\n",
       "  <thead>\n",
       "    <tr style=\"text-align: right;\">\n",
       "      <th></th>\n",
       "      <th>Year</th>\n",
       "      <th>Revenue</th>\n",
       "      <th>Net_Profit</th>\n",
       "    </tr>\n",
       "  </thead>\n",
       "  <tbody>\n",
       "    <tr>\n",
       "      <th>0</th>\n",
       "      <td>2023</td>\n",
       "      <td>69,481</td>\n",
       "      <td>18753.31</td>\n",
       "    </tr>\n",
       "    <tr>\n",
       "      <th>1</th>\n",
       "      <td>2024</td>\n",
       "      <td>69,446</td>\n",
       "      <td>20421.97</td>\n",
       "    </tr>\n",
       "  </tbody>\n",
       "</table>\n",
       "</div>"
      ],
      "text/plain": [
       "   Year Revenue Net_Profit\n",
       "0  2023  69,481   18753.31\n",
       "1  2024  69,446   20421.97"
      ]
     },
     "execution_count": 26,
     "metadata": {},
     "output_type": "execute_result"
    }
   ],
   "source": [
    "pd.read_sql(\"SELECT * FROM annual_financials\", conn)"
   ]
  },
  {
   "cell_type": "code",
   "execution_count": 27,
   "id": "3c48074e",
   "metadata": {},
   "outputs": [
    {
     "data": {
      "text/html": [
       "<div>\n",
       "<style scoped>\n",
       "    .dataframe tbody tr th:only-of-type {\n",
       "        vertical-align: middle;\n",
       "    }\n",
       "\n",
       "    .dataframe tbody tr th {\n",
       "        vertical-align: top;\n",
       "    }\n",
       "\n",
       "    .dataframe thead th {\n",
       "        text-align: right;\n",
       "    }\n",
       "</style>\n",
       "<table border=\"1\" class=\"dataframe\">\n",
       "  <thead>\n",
       "    <tr style=\"text-align: right;\">\n",
       "      <th></th>\n",
       "      <th>Date</th>\n",
       "      <th>Open</th>\n",
       "      <th>Close</th>\n",
       "    </tr>\n",
       "  </thead>\n",
       "  <tbody>\n",
       "    <tr>\n",
       "      <th>0</th>\n",
       "      <td>2023-01-02</td>\n",
       "      <td>308.648706</td>\n",
       "      <td>310.467590</td>\n",
       "    </tr>\n",
       "    <tr>\n",
       "      <th>1</th>\n",
       "      <td>2023-01-03</td>\n",
       "      <td>309.208393</td>\n",
       "      <td>308.835297</td>\n",
       "    </tr>\n",
       "    <tr>\n",
       "      <th>2</th>\n",
       "      <td>2023-01-04</td>\n",
       "      <td>309.534824</td>\n",
       "      <td>305.010956</td>\n",
       "    </tr>\n",
       "    <tr>\n",
       "      <th>3</th>\n",
       "      <td>2023-01-05</td>\n",
       "      <td>306.550010</td>\n",
       "      <td>311.027252</td>\n",
       "    </tr>\n",
       "    <tr>\n",
       "      <th>4</th>\n",
       "      <td>2023-01-06</td>\n",
       "      <td>312.193181</td>\n",
       "      <td>312.519623</td>\n",
       "    </tr>\n",
       "  </tbody>\n",
       "</table>\n",
       "</div>"
      ],
      "text/plain": [
       "         Date        Open       Close\n",
       "0  2023-01-02  308.648706  310.467590\n",
       "1  2023-01-03  309.208393  308.835297\n",
       "2  2023-01-04  309.534824  305.010956\n",
       "3  2023-01-05  306.550010  311.027252\n",
       "4  2023-01-06  312.193181  312.519623"
      ]
     },
     "execution_count": 27,
     "metadata": {},
     "output_type": "execute_result"
    }
   ],
   "source": [
    "pd.read_sql(\"SELECT * FROM stock_prices LIMIT 5\", conn)"
   ]
  },
  {
   "cell_type": "code",
   "execution_count": 28,
   "id": "9a9d67b6",
   "metadata": {},
   "outputs": [],
   "source": [
    "conn.close()"
   ]
  },
  {
   "cell_type": "code",
   "execution_count": 29,
   "id": "3a91dc1d",
   "metadata": {},
   "outputs": [],
   "source": [
    "conn = sqlite3.connect(\"financial_data.db\")\n",
    "cursor = conn.cursor()"
   ]
  },
  {
   "cell_type": "markdown",
   "id": "2d4542d4",
   "metadata": {},
   "source": [
    "# Convert data into embeddings"
   ]
  },
  {
   "cell_type": "code",
   "execution_count": 30,
   "id": "8d7e105a",
   "metadata": {},
   "outputs": [
    {
     "name": "stderr",
     "output_type": "stream",
     "text": [
      "C:\\Users\\santosh\\anaconda3\\lib\\site-packages\\torch\\utils\\_pytree.py:185: FutureWarning: optree is installed but the version is too old to support PyTorch Dynamo in C++ pytree. C++ pytree support is disabled. Please consider upgrading optree using `python3 -m pip install --upgrade 'optree>=0.13.0'`.\n",
      "  warnings.warn(\n"
     ]
    }
   ],
   "source": [
    "from sklearn.feature_extraction.text import TfidfVectorizer\n",
    "import torch\n",
    "import json"
   ]
  },
  {
   "cell_type": "code",
   "execution_count": 31,
   "id": "0042d292",
   "metadata": {},
   "outputs": [],
   "source": [
    "annual_financials_df = pd.read_sql(\"SELECT * FROM annual_financials\", conn)\n",
    "stock_prices_df = pd.read_sql(\"SELECT * FROM stock_prices\", conn)"
   ]
  },
  {
   "cell_type": "code",
   "execution_count": 32,
   "id": "046daa5f",
   "metadata": {},
   "outputs": [],
   "source": [
    "text_data = stock_prices_df[\"Date\"].astype(str).tolist()"
   ]
  },
  {
   "cell_type": "code",
   "execution_count": 33,
   "id": "3b2599ab",
   "metadata": {},
   "outputs": [],
   "source": [
    "vectorizer = TfidfVectorizer(max_features=10)  \n",
    "tfidf_matrix = vectorizer.fit_transform(text_data)"
   ]
  },
  {
   "cell_type": "code",
   "execution_count": 34,
   "id": "cb27f01b",
   "metadata": {},
   "outputs": [],
   "source": [
    "tfidf_df = pd.DataFrame(tfidf_matrix.toarray(), columns=vectorizer.get_feature_names_out())\n",
    "tfidf_df[\"Date\"] = stock_prices_df[\"Date\"] "
   ]
  },
  {
   "cell_type": "code",
   "execution_count": 35,
   "id": "fcc40a91",
   "metadata": {},
   "outputs": [
    {
     "data": {
      "text/plain": [
       "573"
      ]
     },
     "execution_count": 35,
     "metadata": {},
     "output_type": "execute_result"
    }
   ],
   "source": [
    "tfidf_df.to_sql(\"tfidf_embeddings\", conn, if_exists=\"replace\", index=False)"
   ]
  },
  {
   "cell_type": "code",
   "execution_count": 36,
   "id": "54aab8f1",
   "metadata": {},
   "outputs": [
    {
     "name": "stdout",
     "output_type": "stream",
     "text": [
      "         01        02        03        04        05        06   10      2023  \\\n",
      "0  0.641836  0.652732  0.000000  0.000000  0.000000  0.000000  0.0  0.402477   \n",
      "1  0.641836  0.000000  0.652732  0.000000  0.000000  0.000000  0.0  0.402477   \n",
      "2  0.637043  0.000000  0.000000  0.659241  0.000000  0.000000  0.0  0.399472   \n",
      "3  0.623958  0.000000  0.000000  0.000000  0.676451  0.000000  0.0  0.391267   \n",
      "4  0.618211  0.000000  0.000000  0.000000  0.000000  0.683764  0.0  0.387663   \n",
      "\n",
      "   2024  2025        Date  \n",
      "0   0.0   0.0  2023-01-02  \n",
      "1   0.0   0.0  2023-01-03  \n",
      "2   0.0   0.0  2023-01-04  \n",
      "3   0.0   0.0  2023-01-05  \n",
      "4   0.0   0.0  2023-01-06  \n"
     ]
    }
   ],
   "source": [
    "print(tfidf_df.head())"
   ]
  },
  {
   "cell_type": "code",
   "execution_count": 37,
   "id": "485e2326",
   "metadata": {},
   "outputs": [],
   "source": [
    "conn.close()"
   ]
  }
 ],
 "metadata": {
  "kernelspec": {
   "display_name": "Python 3 (ipykernel)",
   "language": "python",
   "name": "python3"
  },
  "language_info": {
   "codemirror_mode": {
    "name": "ipython",
    "version": 3
   },
   "file_extension": ".py",
   "mimetype": "text/x-python",
   "name": "python",
   "nbconvert_exporter": "python",
   "pygments_lexer": "ipython3",
   "version": "3.10.9"
  }
 },
 "nbformat": 4,
 "nbformat_minor": 5
}
